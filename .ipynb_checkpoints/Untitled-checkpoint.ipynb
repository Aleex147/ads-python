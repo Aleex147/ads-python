{
 "cells": [
  {
   "cell_type": "markdown",
   "id": "6fd8cb62",
   "metadata": {},
   "source": [
    "### Importando as bibliotecas"
   ]
  },
  {
   "cell_type": "code",
   "execution_count": 1,
   "id": "39724d3a",
   "metadata": {},
   "outputs": [],
   "source": [
    "import pandas as pd\n",
    "import basedosdados as bd"
   ]
  },
  {
   "cell_type": "markdown",
   "id": "c2ab60f0",
   "metadata": {},
   "source": [
    "### Carreando os dados"
   ]
  },
  {
   "cell_type": "code",
   "execution_count": 3,
   "id": "4483d043",
   "metadata": {},
   "outputs": [
    {
     "name": "stderr",
     "output_type": "stream",
     "text": [
      "\n",
      "Downloading:   0%|                                                                         | 0/10000 [00:00<?, ?rows/s]\u001b[A\n",
      "Downloading: 100%|███████████████████████████████████████████████████████████| 10000/10000 [00:01<00:00, 6697.50rows/s]\u001b[A\n"
     ]
    }
   ],
   "source": [
    "df = bd.read_table(dataset_id='br_tse_eleicoes',\n",
    "table_id='resultados_candidato',\n",
    "billing_project_id=\"api-pythom\",\n",
    "limit=10000)"
   ]
  },
  {
   "cell_type": "markdown",
   "id": "fd1d019d",
   "metadata": {},
   "source": [
    "### Criando a função de busca na tabela"
   ]
  },
  {
   "cell_type": "code",
   "execution_count": 21,
   "id": "aef2ac56",
   "metadata": {},
   "outputs": [],
   "source": [
    "def busca(cargo, baixar, ano=1994):\n",
    "    \n",
    "    df_cargo = df[df['cargo'].str.contains(cargo)]\n",
    "    \n",
    "    df_busca = df_cargo[df_cargo['ano'].between(ano, 1996)]\n",
    "    \n",
    "    if baixar == 1 or baixar == '1':\n",
    "        df_busca.to_excel(f'pesquisas/pesquisa_{cargo}_{ano}.xlsx')\n",
    "        print(\"Arquivo salvo com sucesso! \")\n",
    "    \n",
    "    if baixar == 2 or baixar == '2':\n",
    "        return df_busca\n",
    "    \n",
    "    else:\n",
    "        print(\"Tente novamente, informando um número que sejá 1 ou 2\")"
   ]
  },
  {
   "cell_type": "markdown",
   "id": "d000029b",
   "metadata": {},
   "source": [
    "### Solicitando os dados de busca para o usuário"
   ]
  },
  {
   "cell_type": "code",
   "execution_count": 23,
   "id": "333f02e9",
   "metadata": {},
   "outputs": [
    {
     "name": "stdout",
     "output_type": "stream",
     "text": [
      "Informe o cargo do candidato: Prefeito\n",
      "Informe o ano da eleição: 1996\n",
      "Deseja baixar essa busca?\n",
      " Digite 1 para baixar\n",
      " Digite 2 apenas para visualizar a busca\n",
      "2\n"
     ]
    },
    {
     "data": {
      "text/html": [
       "<div>\n",
       "<style scoped>\n",
       "    .dataframe tbody tr th:only-of-type {\n",
       "        vertical-align: middle;\n",
       "    }\n",
       "\n",
       "    .dataframe tbody tr th {\n",
       "        vertical-align: top;\n",
       "    }\n",
       "\n",
       "    .dataframe thead th {\n",
       "        text-align: right;\n",
       "    }\n",
       "</style>\n",
       "<table border=\"1\" class=\"dataframe\">\n",
       "  <thead>\n",
       "    <tr style=\"text-align: right;\">\n",
       "      <th></th>\n",
       "      <th>ano</th>\n",
       "      <th>turno</th>\n",
       "      <th>tipo_eleicao</th>\n",
       "      <th>sigla_uf</th>\n",
       "      <th>id_municipio</th>\n",
       "      <th>id_municipio_tse</th>\n",
       "      <th>cargo</th>\n",
       "      <th>numero_partido</th>\n",
       "      <th>sigla_partido</th>\n",
       "      <th>numero_candidato</th>\n",
       "      <th>sequencial_candidato</th>\n",
       "      <th>id_candidato_bd</th>\n",
       "      <th>resultado</th>\n",
       "      <th>votos</th>\n",
       "    </tr>\n",
       "  </thead>\n",
       "  <tbody>\n",
       "  </tbody>\n",
       "</table>\n",
       "</div>"
      ],
      "text/plain": [
       "Empty DataFrame\n",
       "Columns: [ano, turno, tipo_eleicao, sigla_uf, id_municipio, id_municipio_tse, cargo, numero_partido, sigla_partido, numero_candidato, sequencial_candidato, id_candidato_bd, resultado, votos]\n",
       "Index: []"
      ]
     },
     "execution_count": 23,
     "metadata": {},
     "output_type": "execute_result"
    }
   ],
   "source": [
    "cargo_busca = input(\"Informe o cargo do candidato: \")\n",
    "\n",
    "ano_busca = int(input(\"Informe o ano da eleição: \"))\n",
    "\n",
    "baixar_busca = input(\"Deseja baixar essa busca?\\n Digite 1 para baixar\\n Digite 2 apenas para visualizar a busca\\n\")\n",
    "\n",
    "\n",
    "busca(cargo=cargo_busca, baixar=baixar_busca, ano=ano_busca)"
   ]
  }
 ],
 "metadata": {
  "kernelspec": {
   "display_name": "Python 3 (ipykernel)",
   "language": "python",
   "name": "python3"
  },
  "language_info": {
   "codemirror_mode": {
    "name": "ipython",
    "version": 3
   },
   "file_extension": ".py",
   "mimetype": "text/x-python",
   "name": "python",
   "nbconvert_exporter": "python",
   "pygments_lexer": "ipython3",
   "version": "3.10.10"
  }
 },
 "nbformat": 4,
 "nbformat_minor": 5
}
